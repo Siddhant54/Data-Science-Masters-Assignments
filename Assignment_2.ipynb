{
 "cells": [
  {
   "cell_type": "markdown",
   "id": "2fa6a86a",
   "metadata": {},
   "source": [
    "Que 1- Write a program to accept percentage from the user and display the grade according to the following criteria"
   ]
  },
  {
   "cell_type": "code",
   "execution_count": 2,
   "id": "bfdcf3d2",
   "metadata": {},
   "outputs": [
    {
     "name": "stdout",
     "output_type": "stream",
     "text": [
      "Enter your marks: 55\n",
      "Your grade is D\n"
     ]
    }
   ],
   "source": [
    "marks=int(input(\"Enter your marks: \"))\n",
    "if marks > 90:\n",
    "    print(\"Your grade is A\")\n",
    "elif marks > 80 and marks >=90:\n",
    "    print(\"Your grade is B\")\n",
    "elif marks >=60 and marks <=80:\n",
    "    print(\"Your grade is C\")\n",
    "else :\n",
    "    print(\"Your grade is D\")\n"
   ]
  },
  {
   "cell_type": "markdown",
   "id": "d37bc287",
   "metadata": {},
   "source": [
    "Que 2- Write a program to accept a cost price of a bike and diplay the road tax to be paid according to the following criteria."
   ]
  },
  {
   "cell_type": "code",
   "execution_count": 3,
   "id": "93870a4e",
   "metadata": {},
   "outputs": [
    {
     "name": "stdout",
     "output_type": "stream",
     "text": [
      "Enter cost price: 60000\n",
      "Tax to be paid is 10% \n"
     ]
    }
   ],
   "source": [
    "cost_price = int(input(\"Enter cost price: \"))\n",
    "if cost_price >100000:\n",
    "    print(\"Tax to be paid is 15% \")\n",
    "elif cost_price >50000 and cost_price <= 100000:\n",
    "    print(\"Tax to be paid is 10% \")\n",
    "else :\n",
    "    print(\"Tax to be paid is 5% \")\n"
   ]
  },
  {
   "cell_type": "markdown",
   "id": "064edcce",
   "metadata": {},
   "source": [
    "Que 3- Accept any city from the user and display monuments of that city."
   ]
  },
  {
   "cell_type": "code",
   "execution_count": 4,
   "id": "58c49223",
   "metadata": {},
   "outputs": [
    {
     "name": "stdout",
     "output_type": "stream",
     "text": [
      "Enter City: Agra\n",
      "Taj Mahal;\n"
     ]
    }
   ],
   "source": [
    "city = input(\"Enter City: \")\n",
    "if city == \"Delhi\" :\n",
    "    print(\"Red Fort\")\n",
    "elif city == \"Agra\" :\n",
    "    print(\"Taj Mahal;\")\n",
    "elif city == \"Jaipur\" :\n",
    "    print(\"Jal Mahal\")\n",
    "    "
   ]
  },
  {
   "cell_type": "markdown",
   "id": "eacd8482",
   "metadata": {},
   "source": [
    "Que 4- Check how many time a given number can be divided by 3 before it is less than or equal to 10"
   ]
  },
  {
   "cell_type": "code",
   "execution_count": 5,
   "id": "9685f62b",
   "metadata": {},
   "outputs": [
    {
     "name": "stdout",
     "output_type": "stream",
     "text": [
      "Enter your number: 400\n",
      "4\n"
     ]
    }
   ],
   "source": [
    "number=int(input(\"Enter your number: \"))\n",
    "count=0\n",
    "while number > 10:\n",
    "    number = number/3\n",
    "    count += 1\n",
    "print(count)"
   ]
  },
  {
   "cell_type": "code",
   "execution_count": 6,
   "id": "14158e84",
   "metadata": {},
   "outputs": [
    {
     "name": "stdout",
     "output_type": "stream",
     "text": [
      "Enter your number: 999\n",
      "5\n"
     ]
    }
   ],
   "source": [
    "\"\"\"Que 5- Why and when to use while loop in python give detailed description with example\n",
    "\n",
    "Ans- We use while loop when we need check the condition is true or false.\n",
    "     When condition is true then the code inside while is executed and this process remains until the condition is false.\n",
    "     When gets condition false then while loop stop the exection.\n",
    "     \n",
    "     syntax:\n",
    "     while condition:\n",
    "     #body of the loop \"\"\"\n",
    "\n",
    "#Example\n",
    "\n",
    "number=int(input(\"Enter your number: \"))\n",
    "count=0\n",
    "while number > 10:\n",
    "    number = number/3\n",
    "    count += 1\n",
    "print(count)"
   ]
  },
  {
   "cell_type": "markdown",
   "id": "ae0cca4e",
   "metadata": {},
   "source": [
    "Que 6- Use nested while loop to print 3 different pattern"
   ]
  },
  {
   "cell_type": "code",
   "execution_count": 2,
   "id": "16eae390",
   "metadata": {},
   "outputs": [
    {
     "name": "stdout",
     "output_type": "stream",
     "text": [
      "*\n",
      "**\n",
      "***\n",
      "****\n",
      "*****\n",
      "-----\n",
      "*****\n",
      "****\n",
      "***\n",
      "**\n",
      "*\n",
      "-----\n",
      "    *\n",
      "   **\n",
      "  ***\n",
      " ****\n",
      "*****\n"
     ]
    }
   ],
   "source": [
    "# Pattern 1:\n",
    "i = 1\n",
    "while i <= 5:\n",
    "    j = 1\n",
    "    while j <= i:\n",
    "        print(\"*\", end=\"\")\n",
    "        j += 1\n",
    "    print(\"\")\n",
    "    i += 1\n",
    "    \n",
    "print(\"-----\")\n",
    "# Pattern 2:\n",
    "i = 5\n",
    "while i >= 1:\n",
    "    j = i\n",
    "    while j >= 1:\n",
    "        print(\"*\", end=\"\")\n",
    "        j -= 1\n",
    "    print(\"\")\n",
    "    i -= 1\n",
    "\n",
    "print(\"-----\")\n",
    "# Pattern 3:\n",
    "i = 5\n",
    "while i >= 1:\n",
    "    j = 1\n",
    "    while j <= 5:\n",
    "        if j >= i:\n",
    "            print(\"*\", end=\"\")\n",
    "        else:\n",
    "            print(\" \", end=\"\")\n",
    "        j += 1\n",
    "    print(\"\")\n",
    "    i -= 1\n"
   ]
  },
  {
   "cell_type": "markdown",
   "id": "9682b1d6",
   "metadata": {},
   "source": [
    "Que7 - Reverce a while loop to display numbers from 10 to 1"
   ]
  },
  {
   "cell_type": "code",
   "execution_count": 2,
   "id": "abf3e25c",
   "metadata": {},
   "outputs": [
    {
     "name": "stdout",
     "output_type": "stream",
     "text": [
      "10\n",
      "9\n",
      "8\n",
      "7\n",
      "6\n",
      "5\n",
      "4\n",
      "3\n",
      "2\n",
      "1\n"
     ]
    }
   ],
   "source": [
    "i = 10\n",
    "while i > 0:\n",
    "    print(i)\n",
    "    i -= 1"
   ]
  },
  {
   "cell_type": "markdown",
   "id": "3e366ca7",
   "metadata": {},
   "source": [
    "Que8 - Reverce a while loop to display numbers from 10 to 1"
   ]
  },
  {
   "cell_type": "code",
   "execution_count": 1,
   "id": "fbc949ca",
   "metadata": {},
   "outputs": [
    {
     "name": "stdout",
     "output_type": "stream",
     "text": [
      "10\n",
      "9\n",
      "8\n",
      "7\n",
      "6\n",
      "5\n",
      "4\n",
      "3\n",
      "2\n",
      "1\n"
     ]
    }
   ],
   "source": [
    "i = 10\n",
    "while i > 0:\n",
    "    print(i)\n",
    "    i -= 1"
   ]
  },
  {
   "cell_type": "code",
   "execution_count": null,
   "id": "2785f320",
   "metadata": {},
   "outputs": [],
   "source": []
  }
 ],
 "metadata": {
  "kernelspec": {
   "display_name": "Python 3 (ipykernel)",
   "language": "python",
   "name": "python3"
  },
  "language_info": {
   "codemirror_mode": {
    "name": "ipython",
    "version": 3
   },
   "file_extension": ".py",
   "mimetype": "text/x-python",
   "name": "python",
   "nbconvert_exporter": "python",
   "pygments_lexer": "ipython3",
   "version": "3.10.6"
  }
 },
 "nbformat": 4,
 "nbformat_minor": 5
}
